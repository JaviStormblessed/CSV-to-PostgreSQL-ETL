{
 "cells": [
  {
   "cell_type": "code",
   "execution_count": 1,
   "id": "2a9791b7-2680-4133-813b-551abb8d9303",
   "metadata": {},
   "outputs": [],
   "source": [
    "import psycopg2\n",
    "import pandas as pd"
   ]
  },
  {
   "cell_type": "code",
   "execution_count": 2,
   "id": "ce4b585a-5c32-4ee0-a529-86f5c019b77b",
   "metadata": {},
   "outputs": [],
   "source": [
    "def create_database():\n",
    "    #connect to default database\n",
    "    conn = psycopg2.connect(\"host=127.0.0.1 dbname=postgres user=postgres password=mierda\")\n",
    "    conn.set_session(autocommit=True)\n",
    "    cur = conn.cursor()\n",
    "    \n",
    "    #create sparkify database with UTF8 encoding\n",
    "    cur.execute(\"DROP DATABASE accounts\")\n",
    "    cur.execute(\"CREATE DATABASE accounts\")\n",
    "\n",
    "    #close connection to default database\n",
    "    conn.close()\n",
    "\n",
    "    #connect to sparkify database\n",
    "    conn= psycopg2.connect(\"host=127.0.0.1 dbname=accounts user=postgres password=mierda\")\n",
    "    cur = conn.cursor()\n",
    "\n",
    "    return cur, conn"
   ]
  },
  {
   "cell_type": "code",
   "execution_count": 3,
   "id": "d165dd25-30f3-47b8-afdc-a141c488cc27",
   "metadata": {},
   "outputs": [],
   "source": [
    "def drop_tables(cur, conn):\n",
    "    for query in drop_tables_queries:\n",
    "        cur.execute(query)\n",
    "        conn.commit()"
   ]
  },
  {
   "cell_type": "code",
   "execution_count": 4,
   "id": "1c074162-c1ee-4bc9-ada4-b6072c77b1d1",
   "metadata": {},
   "outputs": [],
   "source": [
    "def create_tables(cur, conn):\n",
    "    for query in create_tables_queries:\n",
    "        cur.execute(query)\n",
    "        conn.commit()"
   ]
  },
  {
   "cell_type": "code",
   "execution_count": 6,
   "id": "cbb28de1-3077-431a-aa83-e9b11241cf7f",
   "metadata": {},
   "outputs": [],
   "source": [
    "AccountsCountry = pd.read_csv(\"Wealth-AccountsCountry.csv\")\n",
    "AccountData = pd.read_csv(\"Wealth-AccountData.csv\")\n",
    "AccountsSeries = pd.read_csv(\"Wealth-AccountSeries.csv\")"
   ]
  },
  {
   "cell_type": "code",
   "execution_count": 26,
   "id": "6784a709-9a06-44c5-8c99-54d9eddda398",
   "metadata": {},
   "outputs": [
    {
     "data": {
      "text/plain": [
       "Index(['Code', 'Short Name', 'Long Name', 'Table Name', 'Currency Unit'], dtype='object')"
      ]
     },
     "execution_count": 26,
     "metadata": {},
     "output_type": "execute_result"
    }
   ],
   "source": [
    "AccountsCountry.columns"
   ]
  },
  {
   "cell_type": "code",
   "execution_count": 7,
   "id": "5718df3b-ef44-4da2-97e0-111d4ea0fd7a",
   "metadata": {},
   "outputs": [],
   "source": [
    "AccountsCountry = AccountsCountry[['Code','Short Name', 'Long Name','Table Name', 'Currency Unit']].dropna()"
   ]
  },
  {
   "cell_type": "code",
   "execution_count": 8,
   "id": "d42f92cc-66b9-47eb-b16b-2e61e0006801",
   "metadata": {},
   "outputs": [
    {
     "data": {
      "text/html": [
       "<div>\n",
       "<style scoped>\n",
       "    .dataframe tbody tr th:only-of-type {\n",
       "        vertical-align: middle;\n",
       "    }\n",
       "\n",
       "    .dataframe tbody tr th {\n",
       "        vertical-align: top;\n",
       "    }\n",
       "\n",
       "    .dataframe thead th {\n",
       "        text-align: right;\n",
       "    }\n",
       "</style>\n",
       "<table border=\"1\" class=\"dataframe\">\n",
       "  <thead>\n",
       "    <tr style=\"text-align: right;\">\n",
       "      <th></th>\n",
       "      <th>Code</th>\n",
       "      <th>Short Name</th>\n",
       "      <th>Long Name</th>\n",
       "      <th>Table Name</th>\n",
       "      <th>Currency Unit</th>\n",
       "    </tr>\n",
       "  </thead>\n",
       "  <tbody>\n",
       "    <tr>\n",
       "      <th>2</th>\n",
       "      <td>ARM</td>\n",
       "      <td>Armenia</td>\n",
       "      <td>Republic of Armenia</td>\n",
       "      <td>Armenia</td>\n",
       "      <td>Armenian dram</td>\n",
       "    </tr>\n",
       "  </tbody>\n",
       "</table>\n",
       "</div>"
      ],
      "text/plain": [
       "  Code Short Name            Long Name Table Name  Currency Unit\n",
       "2  ARM    Armenia  Republic of Armenia    Armenia  Armenian dram"
      ]
     },
     "execution_count": 8,
     "metadata": {},
     "output_type": "execute_result"
    }
   ],
   "source": [
    "AccountsCountry[AccountsCountry['Code']=='ARM']"
   ]
  },
  {
   "cell_type": "code",
   "execution_count": 10,
   "id": "b5787a55-8f69-489a-ac43-8051ccfc8313",
   "metadata": {},
   "outputs": [
    {
     "data": {
      "text/plain": [
       "Index(['Country Name', 'Country Code', 'Series Name', 'Series Code',\n",
       "       '1995 [YR1995]', '2005 [YR2005]', '2010 [YR2010]', '2015 [YR2015]',\n",
       "       '2018 [YR2018]'],\n",
       "      dtype='object')"
      ]
     },
     "execution_count": 10,
     "metadata": {},
     "output_type": "execute_result"
    }
   ],
   "source": [
    "AccountData.columns"
   ]
  },
  {
   "cell_type": "code",
   "execution_count": 9,
   "id": "a28a850c-5347-4d83-aca6-cf6793bc510b",
   "metadata": {},
   "outputs": [],
   "source": [
    "pd.options.display.float_format = '{:.0f}'.format"
   ]
  },
  {
   "cell_type": "code",
   "execution_count": 10,
   "id": "db34be9d-5228-461f-8630-6041af1d6513",
   "metadata": {},
   "outputs": [],
   "source": [
    "AccountData=AccountData[['Country Name', 'Country Code', 'Series Name', 'Series Code',\n",
    "       '2005 [YR2005]','2010 [YR2010]','2015 [YR2015]']].dropna()"
   ]
  },
  {
   "cell_type": "code",
   "execution_count": 11,
   "id": "7e0cf337-b1a1-4fa1-aceb-440d35edcdcf",
   "metadata": {},
   "outputs": [
    {
     "name": "stdout",
     "output_type": "stream",
     "text": [
      "<class 'pandas.core.frame.DataFrame'>\n",
      "RangeIndex: 7592 entries, 0 to 7591\n",
      "Data columns (total 7 columns):\n",
      " #   Column         Non-Null Count  Dtype  \n",
      "---  ------         --------------  -----  \n",
      " 0   Country Name   7592 non-null   object \n",
      " 1   Country Code   7592 non-null   object \n",
      " 2   Series Name    7592 non-null   object \n",
      " 3   Series Code    7592 non-null   object \n",
      " 4   2005 [YR2005]  7592 non-null   float64\n",
      " 5   2010 [YR2010]  7592 non-null   float64\n",
      " 6   2015 [YR2015]  7592 non-null   float64\n",
      "dtypes: float64(3), object(4)\n",
      "memory usage: 415.3+ KB\n"
     ]
    }
   ],
   "source": [
    "AccountData.info()"
   ]
  },
  {
   "cell_type": "code",
   "execution_count": 12,
   "id": "7a3c7744-3d5e-4df0-ac19-c49687ba1b41",
   "metadata": {},
   "outputs": [],
   "source": [
    "AccountsSeries = AccountsSeries[['Code', 'Indicator Name', 'Long definition','Topic']]"
   ]
  },
  {
   "cell_type": "code",
   "execution_count": 13,
   "id": "e2d1078b-91e1-460f-99f0-74bea873c20e",
   "metadata": {},
   "outputs": [],
   "source": [
    "cur, conn = create_database()"
   ]
  },
  {
   "cell_type": "code",
   "execution_count": 14,
   "id": "4529d53d-b0b1-4fe1-9d89-bd3a20c550a0",
   "metadata": {},
   "outputs": [],
   "source": [
    "songplay_table_create = (\"\"\"CREATE TABLE IF NOT EXISTS accountscountry(\n",
    "code VARCHAR PRIMARY KEY,\n",
    "short_name VARCHAR,\n",
    "long_name VARCHAR,\n",
    "table_name VARCHAR,\n",
    "currency_unit VARCHAR\n",
    ")\"\"\")"
   ]
  },
  {
   "cell_type": "code",
   "execution_count": 15,
   "id": "114872cf-f05d-4772-b079-f4fed713d31c",
   "metadata": {},
   "outputs": [],
   "source": [
    "cur.execute(songplay_table_create)\n",
    "conn.commit()"
   ]
  },
  {
   "cell_type": "code",
   "execution_count": 16,
   "id": "02eecc9b-f2b1-405e-9a9a-7ff2416695f0",
   "metadata": {},
   "outputs": [],
   "source": [
    "accounts_data_table_create = (\"\"\"CREATE TABLE IF NOT EXISTS accountsdata(\n",
    "country_name VARCHAR,\n",
    "country_code VARCHAR,\n",
    "series_name VARCHAR,\n",
    "series_code VARCHAR,\n",
    "year_1995 numeric,\n",
    "year_2005 numeric,\n",
    "year_2010 numeric,\n",
    "year_2015 numeric,\n",
    "year_2018 numeric\n",
    ")\"\"\")\n",
    "cur.execute(accounts_data_table_create)\n",
    "conn.commit()"
   ]
  },
  {
   "cell_type": "code",
   "execution_count": 17,
   "id": "267508ff-c170-4d5e-b3b8-ec78b529235f",
   "metadata": {},
   "outputs": [],
   "source": [
    "accountseries_data_table_create= (\"\"\"CREATE TABLE IF NOT EXISTS accountseries(\n",
    "code VARCHAR,\n",
    "indicator_name VARCHAR,\n",
    "long_definition VARCHAR,\n",
    "topic VARCHAR\n",
    ")\"\"\")\n",
    "cur.execute(accountseries_data_table_create)\n",
    "conn.commit()"
   ]
  },
  {
   "cell_type": "code",
   "execution_count": 18,
   "id": "95a8810d-97e8-43e5-8bad-77d5973d28eb",
   "metadata": {},
   "outputs": [],
   "source": [
    "accounts_country_table_insert= (\"\"\"INSERT INTO accountscountry(\n",
    "code,\n",
    "short_name ,\n",
    "long_name ,\n",
    "table_name ,\n",
    "currency_unit )\n",
    "VALUES(%s, %s, %s, %s, %s)\"\"\")"
   ]
  },
  {
   "cell_type": "code",
   "execution_count": 19,
   "id": "c54add31-5b49-490b-b02c-825406c5c8cb",
   "metadata": {},
   "outputs": [],
   "source": [
    "for i, row in AccountsCountry.iterrows():\n",
    "    cur.execute(accounts_country_table_insert, list(row))"
   ]
  },
  {
   "cell_type": "code",
   "execution_count": 20,
   "id": "ff9d9309-49f6-425c-a3a0-1aeb16e3e498",
   "metadata": {},
   "outputs": [],
   "source": [
    "conn.commit()"
   ]
  },
  {
   "cell_type": "code",
   "execution_count": 21,
   "id": "97919e17-bed1-4274-9ff5-1ecf1fbb3732",
   "metadata": {},
   "outputs": [],
   "source": [
    "accounts_data_table_insert = (\"\"\"INSERT INTO accountsdata(\n",
    "country_name,\n",
    "country_code,\n",
    "series_name,\n",
    "series_code,\n",
    "year_2005,\n",
    "year_2010,\n",
    "year_2015)\n",
    "VALUES(%s, %s, %s, %s, %s, %s, %s)\n",
    "\"\"\")"
   ]
  },
  {
   "cell_type": "code",
   "execution_count": 22,
   "id": "76d86745-77e1-4beb-9962-1052398a7252",
   "metadata": {},
   "outputs": [],
   "source": [
    "for i, row in AccountData.iterrows():\n",
    "    cur.execute(accounts_data_table_insert, list(row))"
   ]
  },
  {
   "cell_type": "code",
   "execution_count": 23,
   "id": "fffd97c4-eb45-4a35-b055-67bcc6dd1044",
   "metadata": {},
   "outputs": [],
   "source": [
    "conn.commit()"
   ]
  },
  {
   "cell_type": "code",
   "execution_count": 24,
   "id": "953e6641-185b-41b8-8319-0bfe2251c7d9",
   "metadata": {},
   "outputs": [],
   "source": [
    "accountseries_data_table_insert = (\"\"\"INSERT INTO accountseries(\n",
    "code,\n",
    "indicator_name,\n",
    "long_definition,\n",
    "topic\n",
    ")VALUES(%s, %s, %s, %s)\n",
    "\"\"\")"
   ]
  },
  {
   "cell_type": "code",
   "execution_count": 25,
   "id": "b1c5c453-a53e-4875-a235-b3c8cbdd347d",
   "metadata": {},
   "outputs": [],
   "source": [
    "for i, row in AccountsSeries.iterrows():\n",
    "    cur.execute(accountseries_data_table_insert, list(row))"
   ]
  },
  {
   "cell_type": "code",
   "execution_count": 26,
   "id": "9457d620-bbcd-4e3d-bbad-4952c2f3e093",
   "metadata": {},
   "outputs": [],
   "source": [
    "conn.commit()"
   ]
  },
  {
   "cell_type": "code",
   "execution_count": 27,
   "id": "5240488e-1956-4edd-acce-fa535e36a669",
   "metadata": {},
   "outputs": [],
   "source": [
    "cur.close()\n",
    "conn.close()"
   ]
  },
  {
   "cell_type": "code",
   "execution_count": null,
   "id": "432a8a22-fb28-4f22-945e-4bb17aea9122",
   "metadata": {},
   "outputs": [],
   "source": []
  }
 ],
 "metadata": {
  "kernelspec": {
   "display_name": "Python 3 (ipykernel)",
   "language": "python",
   "name": "python3"
  },
  "language_info": {
   "codemirror_mode": {
    "name": "ipython",
    "version": 3
   },
   "file_extension": ".py",
   "mimetype": "text/x-python",
   "name": "python",
   "nbconvert_exporter": "python",
   "pygments_lexer": "ipython3",
   "version": "3.11.5"
  }
 },
 "nbformat": 4,
 "nbformat_minor": 5
}
